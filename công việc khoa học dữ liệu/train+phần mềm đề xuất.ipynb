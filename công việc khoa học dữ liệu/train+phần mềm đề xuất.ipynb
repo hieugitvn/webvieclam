{
 "cells": [
  {
   "cell_type": "code",
   "execution_count": 2,
   "metadata": {},
   "outputs": [
    {
     "name": "stdout",
     "output_type": "stream",
     "text": [
      "   Unnamed: 0                                              roles  \\\n",
      "0           0                          Data Scientist, Marketing   \n",
      "1           1  Hexaware_ Looking Immediate joiners -Data Scie...   \n",
      "2           2         Data Scientist-Senior Associate - P&T Labs   \n",
      "3           3         Data Scientist - CROCI Investment Strategy   \n",
      "4           4                                    Adobe Analytics   \n",
      "\n",
      "                     companies  \\\n",
      "0                     Coursera   \n",
      "1        Hexaware Technologies   \n",
      "2  PwC Service Delivery Center   \n",
      "3                Deutsche Bank   \n",
      "4  PwC Service Delivery Center   \n",
      "\n",
      "                                           locations experience  \\\n",
      "0  Kolkata, Mumbai, New Delhi, Hyderabad/Secunder...    4-6 Yrs   \n",
      "1                Hybrid - Navi Mumbai, Pune, Chennai    4-9 Yrs   \n",
      "2                       Mumbai, Hyderabad, Bengaluru    4-6 Yrs   \n",
      "3                                             Mumbai    3-5 Yrs   \n",
      "4                                    Bangalore Rural    2-4 Yrs   \n",
      "\n",
      "                                              skills  \n",
      "0  Data analysisdata scienceTroubleshootingAnalyt...  \n",
      "1  GenAILLMData ScientistTransformersBertMachine ...  \n",
      "2  AutomationGCPAnalyticalProcess improvementMach...  \n",
      "3  Python programmingC#MatplotlibJavaInvestment S...  \n",
      "4  Adobe LaunchJavascriptAepLaunchAdobeAdobe Anal...  \n"
     ]
    }
   ],
   "source": [
    "import pandas as pd\n",
    "\n",
    "# Đọc file dữ liệu 'ptttkhdl-data.csv' chứa các trường roles, companies, locations, experience, skills\n",
    "data = pd.read_csv('ptttkhdl-data.csv')\n",
    "print(data.head())\n"
   ]
  },
  {
   "cell_type": "code",
   "execution_count": 3,
   "metadata": {},
   "outputs": [],
   "source": [
    "from sklearn.feature_extraction.text import TfidfVectorizer\n",
    "from sklearn.neighbors import NearestNeighbors\n",
    "\n",
    "# Kết hợp các trường vào một cột để tạo ma trận TF-IDF\n",
    "data['kethop'] = data['roles'] + \" \" + data['companies'] + \" \" + data['locations'] + \" \" + data['experience'].astype(str) + \" \" + data['skills']\n",
    "\n",
    "# Chuyển đổi văn bản thành ma trận TF-IDF\n",
    "vectorizer = TfidfVectorizer()\n",
    "tfidf_matrix = vectorizer.fit_transform(data['kethop'])\n",
    "\n",
    "# Tạo mô hình KNN\n",
    "model = NearestNeighbors(n_neighbors=5, algorithm='auto').fit(tfidf_matrix)\n",
    "\n",
    "def recommend_jobs(query):\n",
    "    query_vec = vectorizer.transform([query])\n",
    "    distances, indices = model.kneighbors(query_vec)\n",
    "    return data.iloc[indices[0]]\n"
   ]
  },
  {
   "cell_type": "code",
   "execution_count": 4,
   "metadata": {},
   "outputs": [],
   "source": [
    "import tkinter as tk\n",
    "from tkinter import ttk\n",
    "\n",
    "class JobRecommenderApp:\n",
    "    def __init__(self, root):\n",
    "        self.root = root\n",
    "        self.root.title(\"Đề xuất công việc\")\n",
    "\n",
    "        # Tạo các trường nhập liệu\n",
    "        self.roles_var = tk.StringVar()\n",
    "        self.companies_var = tk.StringVar()\n",
    "        self.locations_var = tk.StringVar()\n",
    "        self.experience_var = tk.StringVar()\n",
    "        self.skills_var = tk.StringVar()\n",
    "\n",
    "        self.create_widgets()\n",
    "\n",
    "    def create_widgets(self):\n",
    "        # Nhãn và các trường nhập liệu\n",
    "        ttk.Label(self.root, text=\"Vai trò:\").grid(row=0, column=0, sticky=tk.W, padx=10, pady=5)\n",
    "        ttk.Entry(self.root, textvariable=self.roles_var).grid(row=0, column=1, sticky=tk.EW, padx=10, pady=5)\n",
    "        \n",
    "        ttk.Label(self.root, text=\"Công Ty:\").grid(row=1, column=0, sticky=tk.W, padx=10, pady=5)\n",
    "        ttk.Entry(self.root, textvariable=self.companies_var).grid(row=1, column=1, sticky=tk.EW, padx=10, pady=5)\n",
    "        \n",
    "        ttk.Label(self.root, text=\"Vị trí:\").grid(row=2, column=0, sticky=tk.W, padx=10, pady=5)\n",
    "        ttk.Entry(self.root, textvariable=self.locations_var).grid(row=2, column=1, sticky=tk.EW, padx=10, pady=5)\n",
    "        \n",
    "        ttk.Label(self.root, text=\"Kinh nghiệm:\").grid(row=3, column=0, sticky=tk.W, padx=10, pady=5)\n",
    "        ttk.Entry(self.root, textvariable=self.experience_var).grid(row=3, column=1, sticky=tk.EW, padx=10, pady=5)\n",
    "        \n",
    "        ttk.Label(self.root, text=\"Kỹ năng:\").grid(row=4, column=0, sticky=tk.W, padx=10, pady=5)\n",
    "        ttk.Entry(self.root, textvariable=self.skills_var).grid(row=4, column=1, sticky=tk.EW, padx=10, pady=5)\n",
    "        \n",
    "        # Nút bấm và khung hiển thị kết quả\n",
    "        ttk.Button(self.root, text=\"Đề xuất công việc\", command=self.recommend_jobs).grid(row=5, column=0, columnspan=2, pady=10)\n",
    "        self.results = tk.Text(self.root, height=10, width=50)\n",
    "        self.results.grid(row=6, column=0, columnspan=2, sticky=tk.NSEW, padx=10, pady=5)\n",
    "\n",
    "        # Cấu hình grid để khung kết quả mở rộng khi cửa sổ được phóng to\n",
    "        self.root.grid_rowconfigure(6, weight=1)\n",
    "        self.root.grid_columnconfigure(1, weight=1)\n",
    "\n",
    "    def recommend_jobs(self): # Lấy dữ liệu từ các trường nhập liệu và tạo thành một câu truy vấn\n",
    "        query = \" \".join([self.roles_var.get(), self.companies_var.get(), self.locations_var.get(), self.experience_var.get(), self.skills_var.get()])\n",
    "        recommendations = recommend_jobs(query)# Lấy đề xuất công việc từ mô hình\n",
    "        self.results.delete(1.0, tk.END)# Xóa nội dung cũ trong khung kết quả\n",
    "        for i, job in recommendations.iterrows(): # Chèn các kết quả mới vào khung kết quả\n",
    "            self.results.insert(tk.END, f\"{job['roles']} tại công ty {job['companies']} ở địa điểm {job['locations']} với kinh nghiệm {job['experience']} năm và có kỹ năng: {job['skills']}\\n\\n\")\n",
    "\n",
    "if __name__ == \"__main__\":\n",
    "    root = tk.Tk()\n",
    "    app = JobRecommenderApp(root)\n",
    "    root.mainloop()\n"
   ]
  }
 ],
 "metadata": {
  "kernelspec": {
   "display_name": "Python 3",
   "language": "python",
   "name": "python3"
  },
  "language_info": {
   "codemirror_mode": {
    "name": "ipython",
    "version": 3
   },
   "file_extension": ".py",
   "mimetype": "text/x-python",
   "name": "python",
   "nbconvert_exporter": "python",
   "pygments_lexer": "ipython3",
   "version": "3.12.2"
  }
 },
 "nbformat": 4,
 "nbformat_minor": 2
}
