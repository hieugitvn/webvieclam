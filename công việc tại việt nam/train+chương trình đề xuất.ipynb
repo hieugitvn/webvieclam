{
 "cells": [
  {
   "cell_type": "code",
   "execution_count": 1,
   "metadata": {},
   "outputs": [],
   "source": [
    "import pandas as pd\n",
    "from sklearn.feature_extraction.text import TfidfVectorizer\n",
    "from sklearn.neighbors import NearestNeighbors\n",
    "import tkinter as tk\n",
    "from tkinter import ttk"
   ]
  },
  {
   "cell_type": "code",
   "execution_count": 2,
   "metadata": {},
   "outputs": [],
   "source": [
    "# Đọc dữ liệu từ tệp CSV\n",
    "data = pd.read_csv('dulieucongviecvn.csv')\n"
   ]
  },
  {
   "cell_type": "code",
   "execution_count": 3,
   "metadata": {},
   "outputs": [],
   "source": [
    "# Kết hợp các trường vào một cột để tạo ma trận TF-IDF\n",
    "data['kethop'] = data['roles'] + \" \" + data['companies'] + \" \" + data['locations'] + \" \" + data['salary'].astype(str)\n",
    "\n",
    "# Chuyển đổi văn bản thành ma trận TF-IDF\n",
    "vectorizer = TfidfVectorizer()\n",
    "tfidf_matrix = vectorizer.fit_transform(data['kethop'])\n",
    "\n",
    "# Tạo mô hình KNN\n",
    "model = NearestNeighbors(n_neighbors=5, algorithm='auto').fit(tfidf_matrix)\n",
    "\n",
    "def recommend_jobs(query):\n",
    "    query_vec = vectorizer.transform([query])\n",
    "    distances, indices = model.kneighbors(query_vec)\n",
    "    return data.iloc[indices[0]]"
   ]
  },
  {
   "cell_type": "code",
   "execution_count": 4,
   "metadata": {},
   "outputs": [],
   "source": [
    "class JobRecommenderApp:\n",
    "    def __init__(self, root):\n",
    "        self.root = root\n",
    "        self.root.title(\"Đề xuất công việc\")\n",
    "\n",
    "        # Tạo các trường nhập liệu\n",
    "        self.roles_var = tk.StringVar()\n",
    "        self.companies_var = tk.StringVar()\n",
    "        self.locations_var = tk.StringVar()\n",
    "        self.salary_var = tk.StringVar()\n",
    "\n",
    "        self.create_widgets()\n",
    "\n",
    "    def create_widgets(self):\n",
    "        # Nhãn và các trường nhập liệu\n",
    "        ttk.Label(self.root, text=\"Vai trò:\").grid(row=0, column=0, sticky=tk.W, padx=10, pady=5)\n",
    "        ttk.Entry(self.root, textvariable=self.roles_var).grid(row=0, column=1, sticky=tk.EW, padx=10, pady=5)\n",
    "        \n",
    "        ttk.Label(self.root, text=\"Công Ty:\").grid(row=1, column=0, sticky=tk.W, padx=10, pady=5)\n",
    "        ttk.Entry(self.root, textvariable=self.companies_var).grid(row=1, column=1, sticky=tk.EW, padx=10, pady=5)\n",
    "        \n",
    "        ttk.Label(self.root, text=\"Vị trí:\").grid(row=2, column=0, sticky=tk.W, padx=10, pady=5)\n",
    "        ttk.Entry(self.root, textvariable=self.locations_var).grid(row=2, column=1, sticky=tk.EW, padx=10, pady=5)\n",
    "        \n",
    "        ttk.Label(self.root, text=\"Lương:\").grid(row=3, column=0, sticky=tk.W, padx=10, pady=5)\n",
    "        ttk.Entry(self.root, textvariable=self.salary_var).grid(row=3, column=1, sticky=tk.EW, padx=10, pady=5)\n",
    "        \n",
    "        # Nút bấm và khung hiển thị kết quả\n",
    "        ttk.Button(self.root, text=\"Đề xuất công việc\", command=self.recommend_jobs).grid(row=4, column=0, columnspan=2, pady=10)\n",
    "        self.results = tk.Text(self.root, height=10, width=50)\n",
    "        self.results.grid(row=5, column=0, columnspan=2, sticky=tk.NSEW, padx=10, pady=5)\n",
    "\n",
    "        # Cấu hình grid để mở rộng\n",
    "        self.root.grid_rowconfigure(5, weight=1)\n",
    "        self.root.grid_columnconfigure(1, weight=1)\n",
    "\n",
    "    def recommend_jobs(self):\n",
    "        query = \" \".join([self.roles_var.get(), self.companies_var.get(), self.locations_var.get(), self.salary_var.get()])\n",
    "        recommendations = recommend_jobs(query)\n",
    "        self.results.delete(1.0, tk.END)\n",
    "        for i, job in recommendations.iterrows():\n",
    "            self.results.insert(tk.END, f\"{job['roles']} tại công ty {job['companies']} ở địa điểm {job['locations']} với mức lương {job['salary']}\\n\\n\")\n",
    "\n",
    "if __name__ == \"__main__\":\n",
    "    root = tk.Tk()\n",
    "    app = JobRecommenderApp(root)\n",
    "    root.mainloop()"
   ]
  }
 ],
 "metadata": {
  "kernelspec": {
   "display_name": "Python 3",
   "language": "python",
   "name": "python3"
  },
  "language_info": {
   "codemirror_mode": {
    "name": "ipython",
    "version": 3
   },
   "file_extension": ".py",
   "mimetype": "text/x-python",
   "name": "python",
   "nbconvert_exporter": "python",
   "pygments_lexer": "ipython3",
   "version": "3.12.2"
  }
 },
 "nbformat": 4,
 "nbformat_minor": 2
}
